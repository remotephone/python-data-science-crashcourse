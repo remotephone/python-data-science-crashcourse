{
 "cells": [
  {
   "cell_type": "code",
   "execution_count": 6,
   "metadata": {},
   "outputs": [],
   "source": [
    "#Average across a sample will converage to the same of the expected measure when n goes to infinity\n",
    "# If the average height of people is 6ft\n",
    "# average of 10 people might be 5.5 ft\n",
    "# as you get clsoer to infinity, you'll get closer to 6ft"
   ]
  },
  {
   "cell_type": "code",
   "execution_count": 7,
   "metadata": {},
   "outputs": [],
   "source": [
    "import numpy as np\n",
    "from numpy.random import randn"
   ]
  },
  {
   "cell_type": "code",
   "execution_count": 26,
   "metadata": {},
   "outputs": [
    {
     "name": "stdout",
     "output_type": "stream",
     "text": [
      "500285\n",
      "499715\n"
     ]
    }
   ],
   "source": [
    "count = 1000000\n",
    "lessthan = 0\n",
    "morethan = 0\n",
    "\n",
    "while count > 0:\n",
    "    x = randn()\n",
    "    if x > 1:\n",
    "        morethan += 1\n",
    "        count -= 1\n",
    "    elif x < -1:\n",
    "        lessthan += 1\n",
    "        count -= 1\n",
    "        \n",
    "print(morethan)\n",
    "print(lessthan)\n",
    "\n",
    "\n"
   ]
  },
  {
   "cell_type": "code",
   "execution_count": null,
   "metadata": {},
   "outputs": [],
   "source": [
    "import numpy as np\n",
    "from numpy.random import randn\n",
    "N = 10\n",
    "counter = 10\n",
    "for i in randn(N)\n"
   ]
  }
 ],
 "metadata": {
  "kernelspec": {
   "display_name": "Python 3",
   "language": "python",
   "name": "python3"
  },
  "language_info": {
   "codemirror_mode": {
    "name": "ipython",
    "version": 3
   },
   "file_extension": ".py",
   "mimetype": "text/x-python",
   "name": "python",
   "nbconvert_exporter": "python",
   "pygments_lexer": "ipython3",
   "version": "3.7.3"
  }
 },
 "nbformat": 4,
 "nbformat_minor": 2
}
